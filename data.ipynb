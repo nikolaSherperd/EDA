{
 "cells": [
  {
   "cell_type": "code",
<<<<<<< HEAD
   "execution_count": 16,
=======
   "execution_count": 3,
>>>>>>> main
   "id": "d19332df-e4e6-4c79-98cb-a31526d6a84a",
   "metadata": {},
   "outputs": [],
   "source": [
    "import pandas as pd\n",
<<<<<<< HEAD
    "import matplotlib.pyplot as plt\n",
    "\n",
=======
>>>>>>> main
    "df = pd.read_csv('train.csv')"
   ]
  },
  {
   "cell_type": "code",
<<<<<<< HEAD
   "execution_count": 17,
=======
   "execution_count": 4,
>>>>>>> main
   "id": "975fef48-d6e2-4770-b5c9-ccd73031bbe5",
   "metadata": {},
   "outputs": [
    {
     "data": {
      "text/html": [
       "<div>\n",
       "<style scoped>\n",
       "    .dataframe tbody tr th:only-of-type {\n",
       "        vertical-align: middle;\n",
       "    }\n",
       "\n",
       "    .dataframe tbody tr th {\n",
       "        vertical-align: top;\n",
       "    }\n",
       "\n",
       "    .dataframe thead th {\n",
       "        text-align: right;\n",
       "    }\n",
       "</style>\n",
       "<table border=\"1\" class=\"dataframe\">\n",
       "  <thead>\n",
       "    <tr style=\"text-align: right;\">\n",
       "      <th></th>\n",
       "      <th>PassengerId</th>\n",
       "      <th>Survived</th>\n",
       "      <th>Pclass</th>\n",
       "      <th>Name</th>\n",
       "      <th>Sex</th>\n",
       "      <th>Age</th>\n",
       "      <th>SibSp</th>\n",
       "      <th>Parch</th>\n",
       "      <th>Ticket</th>\n",
       "      <th>Fare</th>\n",
       "      <th>Cabin</th>\n",
       "      <th>Embarked</th>\n",
       "    </tr>\n",
       "  </thead>\n",
       "  <tbody>\n",
       "    <tr>\n",
       "      <th>0</th>\n",
       "      <td>1</td>\n",
       "      <td>0</td>\n",
       "      <td>3</td>\n",
       "      <td>Braund, Mr. Owen Harris</td>\n",
       "      <td>male</td>\n",
       "      <td>22.0</td>\n",
       "      <td>1</td>\n",
       "      <td>0</td>\n",
       "      <td>A/5 21171</td>\n",
       "      <td>7.2500</td>\n",
       "      <td>NaN</td>\n",
       "      <td>S</td>\n",
       "    </tr>\n",
       "    <tr>\n",
       "      <th>1</th>\n",
       "      <td>2</td>\n",
       "      <td>1</td>\n",
       "      <td>1</td>\n",
       "      <td>Cumings, Mrs. John Bradley (Florence Briggs Th...</td>\n",
       "      <td>female</td>\n",
       "      <td>38.0</td>\n",
       "      <td>1</td>\n",
       "      <td>0</td>\n",
       "      <td>PC 17599</td>\n",
       "      <td>71.2833</td>\n",
       "      <td>C85</td>\n",
       "      <td>C</td>\n",
       "    </tr>\n",
       "    <tr>\n",
       "      <th>2</th>\n",
       "      <td>3</td>\n",
       "      <td>1</td>\n",
       "      <td>3</td>\n",
       "      <td>Heikkinen, Miss. Laina</td>\n",
       "      <td>female</td>\n",
       "      <td>26.0</td>\n",
       "      <td>0</td>\n",
       "      <td>0</td>\n",
       "      <td>STON/O2. 3101282</td>\n",
       "      <td>7.9250</td>\n",
       "      <td>NaN</td>\n",
       "      <td>S</td>\n",
       "    </tr>\n",
       "    <tr>\n",
       "      <th>3</th>\n",
       "      <td>4</td>\n",
       "      <td>1</td>\n",
       "      <td>1</td>\n",
       "      <td>Futrelle, Mrs. Jacques Heath (Lily May Peel)</td>\n",
       "      <td>female</td>\n",
       "      <td>35.0</td>\n",
       "      <td>1</td>\n",
       "      <td>0</td>\n",
       "      <td>113803</td>\n",
       "      <td>53.1000</td>\n",
       "      <td>C123</td>\n",
       "      <td>S</td>\n",
       "    </tr>\n",
       "    <tr>\n",
       "      <th>4</th>\n",
       "      <td>5</td>\n",
       "      <td>0</td>\n",
       "      <td>3</td>\n",
       "      <td>Allen, Mr. William Henry</td>\n",
       "      <td>male</td>\n",
       "      <td>35.0</td>\n",
       "      <td>0</td>\n",
       "      <td>0</td>\n",
       "      <td>373450</td>\n",
       "      <td>8.0500</td>\n",
       "      <td>NaN</td>\n",
       "      <td>S</td>\n",
       "    </tr>\n",
       "  </tbody>\n",
       "</table>\n",
       "</div>"
      ],
      "text/plain": [
       "   PassengerId  Survived  Pclass  \\\n",
       "0            1         0       3   \n",
       "1            2         1       1   \n",
       "2            3         1       3   \n",
       "3            4         1       1   \n",
       "4            5         0       3   \n",
       "\n",
       "                                                Name     Sex   Age  SibSp  \\\n",
       "0                            Braund, Mr. Owen Harris    male  22.0      1   \n",
       "1  Cumings, Mrs. John Bradley (Florence Briggs Th...  female  38.0      1   \n",
       "2                             Heikkinen, Miss. Laina  female  26.0      0   \n",
       "3       Futrelle, Mrs. Jacques Heath (Lily May Peel)  female  35.0      1   \n",
       "4                           Allen, Mr. William Henry    male  35.0      0   \n",
       "\n",
       "   Parch            Ticket     Fare Cabin Embarked  \n",
       "0      0         A/5 21171   7.2500   NaN        S  \n",
       "1      0          PC 17599  71.2833   C85        C  \n",
       "2      0  STON/O2. 3101282   7.9250   NaN        S  \n",
       "3      0            113803  53.1000  C123        S  \n",
       "4      0            373450   8.0500   NaN        S  "
      ]
     },
<<<<<<< HEAD
     "execution_count": 17,
=======
     "execution_count": 4,
>>>>>>> main
     "metadata": {},
     "output_type": "execute_result"
    }
   ],
   "source": [
    "df.head()"
   ]
  },
  {
   "cell_type": "code",
<<<<<<< HEAD
   "execution_count": 18,
=======
   "execution_count": 10,
>>>>>>> main
   "id": "fb330cfb-4447-49f6-8732-96f0d7182866",
   "metadata": {},
   "outputs": [
    {
     "name": "stdout",
     "output_type": "stream",
     "text": [
      "<class 'pandas.core.frame.DataFrame'>\n",
      "RangeIndex: 891 entries, 0 to 890\n",
      "Data columns (total 12 columns):\n",
      " #   Column       Non-Null Count  Dtype  \n",
      "---  ------       --------------  -----  \n",
      " 0   PassengerId  891 non-null    int64  \n",
      " 1   Survived     891 non-null    int64  \n",
      " 2   Pclass       891 non-null    int64  \n",
      " 3   Name         891 non-null    object \n",
      " 4   Sex          891 non-null    object \n",
<<<<<<< HEAD
      " 5   Age          714 non-null    float64\n",
=======
      " 5   Age          891 non-null    float64\n",
>>>>>>> main
      " 6   SibSp        891 non-null    int64  \n",
      " 7   Parch        891 non-null    int64  \n",
      " 8   Ticket       891 non-null    object \n",
      " 9   Fare         891 non-null    float64\n",
      " 10  Cabin        204 non-null    object \n",
      " 11  Embarked     889 non-null    object \n",
      "dtypes: float64(2), int64(5), object(5)\n",
      "memory usage: 83.7+ KB\n"
     ]
    }
   ],
   "source": [
    "df.info()"
   ]
  },
  {
   "cell_type": "code",
<<<<<<< HEAD
   "execution_count": 19,
   "id": "92c26a17-e47d-453e-acde-914809df0161",
   "metadata": {},
   "outputs": [],
   "source": [
    "mean = df['Age'].mean()"
=======
   "execution_count": 26,
   "id": "92c26a17-e47d-453e-acde-914809df0161",
   "metadata": {},
   "outputs": [
    {
     "data": {
      "text/plain": [
       "np.float64(29.69911764705882)"
      ]
     },
     "execution_count": 26,
     "metadata": {},
     "output_type": "execute_result"
    }
   ],
   "source": [
    "mean = df['Age'].mean()\n",
    "mean"
>>>>>>> main
   ]
  },
  {
   "cell_type": "code",
<<<<<<< HEAD
   "execution_count": 20,
   "id": "9d6d1f60-f865-43d8-97f3-0b262e29cd1d",
   "metadata": {},
   "outputs": [],
   "source": [
    "df['Age'] = df['Age'].fillna(mean)"
=======
   "execution_count": 27,
   "id": "9d6d1f60-f865-43d8-97f3-0b262e29cd1d",
   "metadata": {},
   "outputs": [
    {
     "data": {
      "text/plain": [
       "0      22.000000\n",
       "1      38.000000\n",
       "2      26.000000\n",
       "3      35.000000\n",
       "4      35.000000\n",
       "         ...    \n",
       "886    27.000000\n",
       "887    19.000000\n",
       "888    29.699118\n",
       "889    26.000000\n",
       "890    32.000000\n",
       "Name: Age, Length: 891, dtype: float64"
      ]
     },
     "execution_count": 27,
     "metadata": {},
     "output_type": "execute_result"
    }
   ],
   "source": [
    "df['Age'] = df['Age'].fillna(mean)\n",
    "df['Age']"
>>>>>>> main
   ]
  },
  {
   "cell_type": "code",
<<<<<<< HEAD
   "execution_count": 21,
=======
   "execution_count": 28,
>>>>>>> main
   "id": "c6b51c8a-dba3-4299-baf9-8529cc0e9033",
   "metadata": {},
   "outputs": [
    {
     "data": {
      "text/plain": [
<<<<<<< HEAD
       "Sex\n",
       "female    0.742038\n",
       "male      0.188908\n",
       "Name: Survived, dtype: float64"
      ]
     },
     "execution_count": 21,
=======
       "'S'"
      ]
     },
     "execution_count": 28,
>>>>>>> main
     "metadata": {},
     "output_type": "execute_result"
    }
   ],
   "source": [
<<<<<<< HEAD
    "survival_rate = df.groupby('Sex')['Survived'].mean()\n",
    "survival_rate"
=======
    "mode = df['Embarked'].mode()[0]\n",
    "mode"
   ]
  },
  {
   "cell_type": "code",
   "execution_count": 29,
   "id": "63e502a5-f0c1-4764-b150-3c14a1cd2aaa",
   "metadata": {},
   "outputs": [
    {
     "data": {
      "text/plain": [
       "0      S\n",
       "1      S\n",
       "2      S\n",
       "3      S\n",
       "4      S\n",
       "      ..\n",
       "886    S\n",
       "887    S\n",
       "888    S\n",
       "889    S\n",
       "890    S\n",
       "Name: Embarked, Length: 891, dtype: object"
      ]
     },
     "execution_count": 29,
     "metadata": {},
     "output_type": "execute_result"
    }
   ],
   "source": [
    "df['Embarked'] = df['Embarked'].fillna(mode)\n",
    "df['Embarked']"
>>>>>>> main
   ]
  },
  {
   "cell_type": "code",
   "execution_count": 24,
<<<<<<< HEAD
   "id": "85ac734a-b352-4ff9-8243-a3ccab9a75f5",
   "metadata": {},
   "outputs": [
    {
     "data": {
      "text/plain": [
       "Sex\n",
       "male      577\n",
       "female    314\n",
       "Name: count, dtype: int64"
      ]
     },
     "execution_count": 24,
     "metadata": {},
     "output_type": "execute_result"
    }
   ],
   "source": [
    "count = df['Sex'].value_counts()\n",
    "count"
   ]
  },
  {
   "cell_type": "code",
   "execution_count": 54,
   "id": "0606c31c-e399-4aa8-8678-3fe59eb6e9b1",
   "metadata": {},
   "outputs": [
    {
     "data": {
      "text/plain": [
       "<BarContainer object of 2 artists>"
      ]
     },
     "execution_count": 54,
     "metadata": {},
     "output_type": "execute_result"
    },
    {
     "data": {
      "image/png": "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",
      "text/plain": [
       "<Figure size 640x480 with 1 Axes>"
      ]
     },
     "metadata": {},
     "output_type": "display_data"
    }
   ],
   "source": [
    "plt.bar(survival_rate.index, survival_rate.values)\n",
    "plt.title(\"Titanic Event Survival Rate\")\n",
    "plt.xlabel(\"Category\")\n",
    "plt.ylabel(\"Survival Rate.png\")\n",
    "plt.bar(survival_rate.index, survival_rate.values, color='pink')\n",
    "fig, ax = plt.bar(survival_rate.index, survival_rate.values)\n",
    "plt.bar(survival_rate.index, survival_rate.values, color=['orange', 'pink'])"
   ]
  },
  {
   "cell_type": "code",
   "execution_count": 47,
   "id": "4186dd8b-ed2b-4df1-bd62-c3d8f6bf3b32",
   "metadata": {},
   "outputs": [
    {
     "data": {
      "text/plain": [
       "Pclass\n",
       "1    0.629630\n",
       "2    0.472826\n",
       "3    0.242363\n",
       "Name: Survived, dtype: float64"
      ]
     },
     "execution_count": 47,
     "metadata": {},
     "output_type": "execute_result"
    }
   ],
   "source": [
    "Pclass_mean = df.groupby('Pclass')['Survived'].mean()\n",
    "Pclass_mean"
   ]
  },
  {
   "cell_type": "code",
   "execution_count": 55,
   "id": "158c5825-30cc-42ad-8693-c8b76504cafc",
   "metadata": {},
   "outputs": [
    {
     "data": {
      "text/plain": [
       "<BarContainer object of 3 artists>"
      ]
     },
     "execution_count": 55,
     "metadata": {},
     "output_type": "execute_result"
    },
    {
     "data": {
      "image/png": "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",
      "text/plain": [
       "<Figure size 640x480 with 1 Axes>"
      ]
     },
     "metadata": {},
     "output_type": "display_data"
    }
   ],
   "source": [
    "plt.bar(Pclass_mean.index, Pclass_mean.values)\n",
    "plt.title(\"Survival Rate By Class\")\n",
    "plt.xlabel(\"Passenger Class\")\n",
    "plt.ylabel(\"Survival Rate\")\n",
    "plt.savefig(\"titanic_survival_rate_by_class.png\")\n",
    "plt.bar(Pclass_mean.index, Pclass_mean.values, color=['orange', 'pink'])"
=======
   "id": "0b15691a-4f9f-431d-9b89-b6df452b71b7",
   "metadata": {},
   "outputs": [
    {
     "name": "stdout",
     "output_type": "stream",
     "text": [
      "<class 'pandas.core.frame.DataFrame'>\n",
      "RangeIndex: 891 entries, 0 to 890\n",
      "Data columns (total 12 columns):\n",
      " #   Column       Non-Null Count  Dtype  \n",
      "---  ------       --------------  -----  \n",
      " 0   PassengerId  891 non-null    int64  \n",
      " 1   Survived     891 non-null    int64  \n",
      " 2   Pclass       891 non-null    int64  \n",
      " 3   Name         891 non-null    object \n",
      " 4   Sex          891 non-null    object \n",
      " 5   Age          891 non-null    float64\n",
      " 6   SibSp        891 non-null    int64  \n",
      " 7   Parch        891 non-null    int64  \n",
      " 8   Ticket       891 non-null    object \n",
      " 9   Fare         891 non-null    float64\n",
      " 10  Cabin        204 non-null    object \n",
      " 11  Embarked     891 non-null    object \n",
      "dtypes: float64(2), int64(5), object(5)\n",
      "memory usage: 83.7+ KB\n"
     ]
    }
   ],
   "source": [
    "df.info()"
>>>>>>> main
   ]
  },
  {
   "cell_type": "code",
   "execution_count": null,
<<<<<<< HEAD
   "id": "060cf743-96cf-49aa-8afe-cc4bc1fa09ea",
=======
   "id": "d8fbf100-1cb6-42e9-b984-b7a8ba8f9144",
>>>>>>> main
   "metadata": {},
   "outputs": [],
   "source": []
  }
 ],
 "metadata": {
  "kernelspec": {
   "display_name": "Python 3 (ipykernel)",
   "language": "python",
   "name": "python3"
  },
  "language_info": {
   "codemirror_mode": {
    "name": "ipython",
    "version": 3
   },
   "file_extension": ".py",
   "mimetype": "text/x-python",
   "name": "python",
   "nbconvert_exporter": "python",
   "pygments_lexer": "ipython3",
   "version": "3.12.5"
  },
  "widgets": {
   "application/vnd.jupyter.widget-state+json": {
    "state": {},
    "version_major": 2,
    "version_minor": 0
   }
  }
 },
 "nbformat": 4,
 "nbformat_minor": 5
}
